{
 "cells": [
  {
   "cell_type": "code",
   "execution_count": 43,
   "metadata": {},
   "outputs": [
    {
     "name": "stdout",
     "output_type": "stream",
     "text": [
      "[0, 1, 2, 3, 4]\n"
     ]
    }
   ],
   "source": [
    "lucky_num=[0,1,2,3,4]\n",
    "print(lucky_num)"
   ]
  },
  {
   "cell_type": "code",
   "execution_count": 44,
   "metadata": {},
   "outputs": [
    {
     "name": "stdout",
     "output_type": "stream",
     "text": [
      "['sita', 'gita', 'ram', 'shyam', 'hari']\n"
     ]
    }
   ],
   "source": [
    "friends=[\"sita\",\"gita\",\"ram\",\"shyam\",\"hari\"]\n",
    "print(friends)"
   ]
  },
  {
   "cell_type": "code",
   "execution_count": 45,
   "metadata": {},
   "outputs": [
    {
     "name": "stdout",
     "output_type": "stream",
     "text": [
      "[0, 'sita', 1, 'gita', 2, 'ram', 3, 'shyam', 4, 'hari']\n"
     ]
    }
   ],
   "source": [
    "k=0\n",
    "for i in lucky_num:\n",
    "    friends.insert(i+i,lucky_num[i])\n",
    "\n",
    "print(friends)  \n",
    "        \n",
    "        "
   ]
  },
  {
   "cell_type": "code",
   "execution_count": 2,
   "metadata": {},
   "outputs": [
    {
     "name": "stdout",
     "output_type": "stream",
     "text": [
      "female and  not short\n"
     ]
    }
   ],
   "source": [
    "is_female=True\n",
    "is_short=False\n",
    "if is_female and is_short:\n",
    "    print(\"female and short\")\n",
    "elif is_female and not(is_short) :\n",
    "     print(\"female and  not short\")\n",
    "else :\n",
    "    print(\"i dont know\")\n",
    "    "
   ]
  },
  {
   "cell_type": "code",
   "execution_count": 4,
   "metadata": {},
   "outputs": [
    {
     "name": "stdout",
     "output_type": "stream",
     "text": [
      "sita\n",
      "gita\n",
      "ram\n",
      "shyam\n",
      "hari\n"
     ]
    }
   ],
   "source": [
    "friends=[\"sita\",\"gita\",\"ram\",\"shyam\",\"hari\"]\n",
    "for index in range(len(friends)):\n",
    "    print(friends[index])"
   ]
  },
  {
   "cell_type": "code",
   "execution_count": null,
   "metadata": {},
   "outputs": [],
   "source": []
  }
 ],
 "metadata": {
  "kernelspec": {
   "display_name": "Python 3",
   "language": "python",
   "name": "python3"
  },
  "language_info": {
   "codemirror_mode": {
    "name": "ipython",
    "version": 3
   },
   "file_extension": ".py",
   "mimetype": "text/x-python",
   "name": "python",
   "nbconvert_exporter": "python",
   "pygments_lexer": "ipython3",
   "version": "3.7.0"
  }
 },
 "nbformat": 4,
 "nbformat_minor": 2
}
